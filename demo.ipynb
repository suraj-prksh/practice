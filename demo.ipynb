{
 "cells": [
  {
   "cell_type": "code",
   "execution_count": null,
   "metadata": {},
   "outputs": [],
   "source": [
    "l = [2,3,4,7,1]\n",
    "n = len(l)\n",
    "for i in range(n-1):\n",
    "    for j in range(i, n-1):\n",
    "        if l[i] > l[j]:\n",
    "            l[i], l[j] = l[j], l[i]\n",
    "print(l)"
   ]
  },
  {
   "cell_type": "code",
   "execution_count": null,
   "metadata": {},
   "outputs": [],
   "source": [
    "l[0], l[1] = 3, 2\n",
    "l[0], l[1] = 2, 3"
   ]
  },
  {
   "cell_type": "code",
   "execution_count": null,
   "metadata": {},
   "outputs": [],
   "source": [
    "def fast(item2=[]):  \n",
    "    item2.append(1)  \n",
    "    return item2\n",
    "\n",
    "print(fast())\n",
    "print(fast())"
   ]
  },
  {
   "cell_type": "code",
   "execution_count": null,
   "metadata": {},
   "outputs": [],
   "source": [
    "l = [1]\n",
    "a = l\n",
    "a[1] = 3\n"
   ]
  },
  {
   "cell_type": "code",
   "execution_count": 5,
   "metadata": {},
   "outputs": [
    {
     "name": "stdout",
     "output_type": "stream",
     "text": [
      "a*b*c*d*e*\n"
     ]
    }
   ],
   "source": [
    "s = 'abcdef'\n",
    "# str_new = 'a*c*d*f'\n",
    "new_s = \"\"\n",
    "for i in range(len(s)-1):\n",
    "    if i < len(s)-1:\n",
    "        new_s += s[i] + \"*\"\n",
    "    else:\n",
    "        new_s = new_s+s[i]\n",
    "\n",
    "print(new_s)"
   ]
  },
  {
   "cell_type": "code",
   "execution_count": null,
   "metadata": {},
   "outputs": [],
   "source": [
    "Employee Table--->\n",
    "emp_id emp_fname emp_lname emp_ dept manager_id\n",
    "1\tayush\t rawat\t   it\t\t   5\n",
    "2\tankit    singh\t   it\t\t   5\n",
    "3\tkusum\t sharma\t   hr\t\t   0\n",
    "4\tvishal\t kumar\t   sales\t   0\n",
    "5\tnisha\t pandey\t   it\t\t   3\n",
    "\n",
    "\n",
    "SELECT emp_dept, COUNT(emp_id) FROM Employee GROUP BY (dept);\n",
    "MAX, MIN, SUM, COUNT, AVG\n",
    "\n",
    "SELECT first_name\n",
    "FROM t1\n",
    "LEFT JOIN t2\n",
    "ON t1.emp_id = t2.emp_id ORDER BY emp_salary DECS LIMIT 1, 1;"
   ]
  },
  {
   "cell_type": "code",
   "execution_count": null,
   "metadata": {},
   "outputs": [],
   "source": [
    "id\temp_id  emp_salary emp_postion\n",
    "1\t1\t2500000\t   SDE\t\t\n",
    "2\t2\t3000000\t   SDE-2\t\n",
    "3\t4\t1200000    Associate\n",
    "4\t3\t900000\t   Manager\n",
    "5\t5\t3500000    Lead Dev\n",
    "\n",
    "SELECT emp_id, MAX(emp_salary) FROM t2;"
   ]
  },
  {
   "cell_type": "code",
   "execution_count": 13,
   "metadata": {},
   "outputs": [
    {
     "name": "stdout",
     "output_type": "stream",
     "text": [
      "a*c*e*\n"
     ]
    }
   ],
   "source": [
    "def modify_string(input_str):\n",
    "    output_str = ''\n",
    "    \n",
    "    for i in range(len(input_str)):\n",
    "        if i%2!=0:\n",
    "            output_str += \"*\"\n",
    "        else:\n",
    "            output_str += input_str[i]\n",
    "    \n",
    "    return output_str\n",
    "\n",
    "# Example usage:\n",
    "input_str = 'abcdef'\n",
    "output_str = modify_string(input_str)\n",
    "print(output_str)\n"
   ]
  },
  {
   "cell_type": "code",
   "execution_count": 1,
   "metadata": {},
   "outputs": [
    {
     "data": {
      "text/plain": [
       "'abcdef'"
      ]
     },
     "execution_count": 1,
     "metadata": {},
     "output_type": "execute_result"
    }
   ],
   "source": []
  },
  {
   "cell_type": "code",
   "execution_count": 13,
   "metadata": {},
   "outputs": [
    {
     "name": "stdout",
     "output_type": "stream",
     "text": [
      "    * \n",
      "   * * \n",
      "  * * * \n",
      " * * * * \n",
      "* * * * * \n",
      "None\n"
     ]
    }
   ],
   "source": [
    "def triangle(n):\n",
    "    for i in range(1, n+1):\n",
    "        print((n-i)*\" \"+\"* \"*i)\n",
    "\n",
    "print(triangle(5))"
   ]
  },
  {
   "cell_type": "code",
   "execution_count": 37,
   "metadata": {},
   "outputs": [
    {
     "name": "stdout",
     "output_type": "stream",
     "text": [
      "* * * * * \n",
      " * * * * \n",
      "  * * * \n",
      "   * * \n",
      "    * \n",
      "None\n"
     ]
    }
   ],
   "source": [
    "def inverted_triangle(n):\n",
    "    for i in range(0, n):\n",
    "        print(i*\" \"+(n-i)*\"* \")\n",
    "\n",
    "print(inverted_triangle(5))"
   ]
  },
  {
   "cell_type": "code",
   "execution_count": 90,
   "metadata": {},
   "outputs": [
    {
     "name": "stdout",
     "output_type": "stream",
     "text": [
      "         * \n",
      "       * * * \n",
      "     * * * * * \n",
      "   * * * * * * * \n",
      " * * * * * * * * * \n",
      "  * * * * * * * *\n",
      "    * * * * * *\n",
      "      * * * *\n",
      "        * *\n"
     ]
    }
   ],
   "source": [
    "def diamond(n):\n",
    "    for i in range(1, n+1, 2):\n",
    "        print((n-i)*\" \"+i*\"* \")\n",
    "    for i in range(1, n-1, 2):\n",
    "        print(i*\" \"+(n-1-i)*\" *\")\n",
    "\n",
    "diamond(10)"
   ]
  },
  {
   "cell_type": "code",
   "execution_count": 78,
   "metadata": {},
   "outputs": [
    {
     "name": "stdout",
     "output_type": "stream",
     "text": [
      "         * \n",
      "       * * * \n",
      "     * * * * * \n",
      "   * * * * * * * \n",
      " * * * * * * * * * \n"
     ]
    }
   ],
   "source": [
    "n = 10\n",
    "i = 1\n",
    "while i < n+1:\n",
    "    print((n-i)*\" \"+i*\"* \")\n",
    "    i += 2"
   ]
  },
  {
   "cell_type": "code",
   "execution_count": null,
   "metadata": {},
   "outputs": [],
   "source": []
  },
  {
   "cell_type": "code",
   "execution_count": 1,
   "metadata": {},
   "outputs": [
    {
     "ename": "NameError",
     "evalue": "name 'y' is not defined",
     "output_type": "error",
     "traceback": [
      "\u001b[1;31m---------------------------------------------------------------------------\u001b[0m",
      "\u001b[1;31mNameError\u001b[0m                                 Traceback (most recent call last)",
      "Cell \u001b[1;32mIn [1], line 1\u001b[0m\n\u001b[1;32m----> 1\u001b[0m x \u001b[38;5;241m=\u001b[39m \u001b[43my\u001b[49m \u001b[38;5;129;01mor\u001b[39;00m z\n",
      "\u001b[1;31mNameError\u001b[0m: name 'y' is not defined"
     ]
    }
   ],
   "source": [
    "x = y or z"
   ]
  },
  {
   "cell_type": "code",
   "execution_count": 2,
   "metadata": {},
   "outputs": [],
   "source": [
    "d = {\n",
    "    \"a\": 1,\n",
    "    \"b\": 2,\n",
    "    \"c\": 3\n",
    "}"
   ]
  },
  {
   "cell_type": "code",
   "execution_count": 3,
   "metadata": {},
   "outputs": [
    {
     "data": {
      "text/plain": [
       "dict_keys(['a', 'b', 'c'])"
      ]
     },
     "execution_count": 3,
     "metadata": {},
     "output_type": "execute_result"
    }
   ],
   "source": [
    "d.keys()"
   ]
  },
  {
   "cell_type": "code",
   "execution_count": 4,
   "metadata": {},
   "outputs": [
    {
     "data": {
      "text/plain": [
       "dict_values([1, 2, 3])"
      ]
     },
     "execution_count": 4,
     "metadata": {},
     "output_type": "execute_result"
    }
   ],
   "source": [
    "d.values()"
   ]
  },
  {
   "cell_type": "code",
   "execution_count": 5,
   "metadata": {},
   "outputs": [
    {
     "name": "stdout",
     "output_type": "stream",
     "text": [
      "0 a\n",
      "1 b\n",
      "2 c\n"
     ]
    }
   ],
   "source": [
    "for keys, values in enumerate(d):\n",
    "    print(keys, values)"
   ]
  },
  {
   "cell_type": "code",
   "execution_count": 8,
   "metadata": {},
   "outputs": [
    {
     "ename": "KeyError",
     "evalue": "'a'",
     "output_type": "error",
     "traceback": [
      "\u001b[1;31m---------------------------------------------------------------------------\u001b[0m",
      "\u001b[1;31mKeyError\u001b[0m                                  Traceback (most recent call last)",
      "Cell \u001b[1;32mIn [8], line 1\u001b[0m\n\u001b[1;32m----> 1\u001b[0m \u001b[43md\u001b[49m\u001b[38;5;241;43m.\u001b[39;49m\u001b[43mpop\u001b[49m\u001b[43m(\u001b[49m\u001b[38;5;124;43m'\u001b[39;49m\u001b[38;5;124;43ma\u001b[39;49m\u001b[38;5;124;43m'\u001b[39;49m\u001b[43m)\u001b[49m\n",
      "\u001b[1;31mKeyError\u001b[0m: 'a'"
     ]
    }
   ],
   "source": [
    "d.pop('a')"
   ]
  },
  {
   "cell_type": "code",
   "execution_count": 9,
   "metadata": {},
   "outputs": [
    {
     "data": {
      "text/plain": [
       "{'b': 2, 'c': 3}"
      ]
     },
     "execution_count": 9,
     "metadata": {},
     "output_type": "execute_result"
    }
   ],
   "source": [
    "d"
   ]
  },
  {
   "cell_type": "code",
   "execution_count": 1,
   "metadata": {},
   "outputs": [
    {
     "name": "stdout",
     "output_type": "stream",
     "text": [
      "a\n",
      "ab\n",
      "abc\n",
      "b\n",
      "bc\n",
      "c\n",
      "Total number of substrings in 'abc': 6\n"
     ]
    }
   ],
   "source": [
    "def count_substrings(input_string):\n",
    "    length = len(input_string)\n",
    "    count = 0\n",
    "\n",
    "    for start in range(length):\n",
    "        for end in range(start + 1, length + 1):\n",
    "            substring = input_string[start:end]\n",
    "            print(substring)  # You can remove this line if you don't want to print each substring\n",
    "            count += 1\n",
    "\n",
    "    return count\n",
    "\n",
    "# Example usage:\n",
    "input_string = \"abc\"\n",
    "result = count_substrings(input_string)\n",
    "print(f\"Total number of substrings in '{input_string}': {result}\")\n"
   ]
  },
  {
   "cell_type": "code",
   "execution_count": 4,
   "metadata": {},
   "outputs": [
    {
     "name": "stdout",
     "output_type": "stream",
     "text": [
      "fedcba\n"
     ]
    }
   ],
   "source": [
    "string = \"abcdef\"\n",
    "\n",
    "result = \"\"\n",
    "for i in string:\n",
    "    result = i + result\n",
    "\n",
    "print(result)"
   ]
  },
  {
   "cell_type": "code",
   "execution_count": null,
   "metadata": {},
   "outputs": [],
   "source": []
  }
 ],
 "metadata": {
  "kernelspec": {
   "display_name": "Python 3",
   "language": "python",
   "name": "python3"
  },
  "language_info": {
   "codemirror_mode": {
    "name": "ipython",
    "version": 3
   },
   "file_extension": ".py",
   "mimetype": "text/x-python",
   "name": "python",
   "nbconvert_exporter": "python",
   "pygments_lexer": "ipython3",
   "version": "3.10.0"
  }
 },
 "nbformat": 4,
 "nbformat_minor": 2
}
