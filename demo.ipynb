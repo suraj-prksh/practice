{
 "cells": [
  {
   "cell_type": "code",
   "execution_count": null,
   "metadata": {},
   "outputs": [],
   "source": [
    "l = [2,3,4,7,1]\n",
    "n = len(l)\n",
    "for i in range(n-1):\n",
    "    for j in range(i, n-1):\n",
    "        if l[i] > l[j]:\n",
    "            l[i], l[j] = l[j], l[i]\n",
    "print(l)"
   ]
  },
  {
   "cell_type": "code",
   "execution_count": null,
   "metadata": {},
   "outputs": [],
   "source": [
    "l[0], l[1] = 3, 2\n",
    "l[0], l[1] = 2, 3"
   ]
  },
  {
   "cell_type": "code",
   "execution_count": null,
   "metadata": {},
   "outputs": [],
   "source": [
    "def fast(item2=[]):  \n",
    "    item2.append(1)  \n",
    "    return item2\n",
    "\n",
    "print(fast())\n",
    "print(fast())"
   ]
  },
  {
   "cell_type": "code",
   "execution_count": null,
   "metadata": {},
   "outputs": [],
   "source": [
    "l = [1]\n",
    "a = l\n",
    "a[1] = 3\n"
   ]
  },
  {
   "cell_type": "code",
   "execution_count": 5,
   "metadata": {},
   "outputs": [
    {
     "name": "stdout",
     "output_type": "stream",
     "text": [
      "a*b*c*d*e*\n"
     ]
    }
   ],
   "source": [
    "s = 'abcdef'\n",
    "# str_new = 'a*c*d*f'\n",
    "new_s = \"\"\n",
    "for i in range(len(s)-1):\n",
    "    if i < len(s)-1:\n",
    "        new_s += s[i] + \"*\"\n",
    "    else:\n",
    "        new_s = new_s+s[i]\n",
    "\n",
    "print(new_s)"
   ]
  },
  {
   "cell_type": "code",
   "execution_count": null,
   "metadata": {},
   "outputs": [],
   "source": [
    "Employee Table--->\n",
    "emp_id emp_fname emp_lname emp_ dept manager_id\n",
    "1\tayush\t rawat\t   it\t\t   5\n",
    "2\tankit    singh\t   it\t\t   5\n",
    "3\tkusum\t sharma\t   hr\t\t   0\n",
    "4\tvishal\t kumar\t   sales\t   0\n",
    "5\tnisha\t pandey\t   it\t\t   3\n",
    "\n",
    "\n",
    "SELECT emp_dept, COUNT(emp_id) FROM Employee GROUP BY (dept);\n",
    "MAX, MIN, SUM, COUNT, AVG\n",
    "\n",
    "SELECT first_name\n",
    "FROM t1\n",
    "LEFT JOIN t2\n",
    "ON t1.emp_id = t2.emp_id ORDER BY emp_salary DECS LIMIT 1, 1;"
   ]
  },
  {
   "cell_type": "code",
   "execution_count": null,
   "metadata": {},
   "outputs": [],
   "source": [
    "id\temp_id  emp_salary emp_postion\n",
    "1\t1\t2500000\t   SDE\t\t\n",
    "2\t2\t3000000\t   SDE-2\t\n",
    "3\t4\t1200000    Associate\n",
    "4\t3\t900000\t   Manager\n",
    "5\t5\t3500000    Lead Dev\n",
    "\n",
    "SELECT emp_id, MAX(emp_salary) FROM t2;"
   ]
  },
  {
   "cell_type": "code",
   "execution_count": 13,
   "metadata": {},
   "outputs": [
    {
     "name": "stdout",
     "output_type": "stream",
     "text": [
      "a*c*e*\n"
     ]
    }
   ],
   "source": [
    "def modify_string(input_str):\n",
    "    output_str = ''\n",
    "    \n",
    "    for i in range(len(input_str)):\n",
    "        if i%2!=0:\n",
    "            output_str += \"*\"\n",
    "        else:\n",
    "            output_str += input_str[i]\n",
    "    \n",
    "    return output_str\n",
    "\n",
    "# Example usage:\n",
    "input_str = 'abcdef'\n",
    "output_str = modify_string(input_str)\n",
    "print(output_str)\n"
   ]
  },
  {
   "cell_type": "code",
   "execution_count": 1,
   "metadata": {},
   "outputs": [
    {
     "data": {
      "text/plain": [
       "'abcdef'"
      ]
     },
     "execution_count": 1,
     "metadata": {},
     "output_type": "execute_result"
    }
   ],
   "source": []
  },
  {
   "cell_type": "code",
   "execution_count": 13,
   "metadata": {},
   "outputs": [
    {
     "name": "stdout",
     "output_type": "stream",
     "text": [
      "    * \n",
      "   * * \n",
      "  * * * \n",
      " * * * * \n",
      "* * * * * \n",
      "None\n"
     ]
    }
   ],
   "source": [
    "def triangle(n):\n",
    "    for i in range(1, n+1):\n",
    "        print((n-i)*\" \"+\"* \"*i)\n",
    "\n",
    "print(triangle(5))"
   ]
  },
  {
   "cell_type": "code",
   "execution_count": 37,
   "metadata": {},
   "outputs": [
    {
     "name": "stdout",
     "output_type": "stream",
     "text": [
      "* * * * * \n",
      " * * * * \n",
      "  * * * \n",
      "   * * \n",
      "    * \n",
      "None\n"
     ]
    }
   ],
   "source": [
    "def inverted_triangle(n):\n",
    "    for i in range(0, n):\n",
    "        print(i*\" \"+(n-i)*\"* \")\n",
    "\n",
    "print(inverted_triangle(5))"
   ]
  },
  {
   "cell_type": "code",
   "execution_count": 90,
   "metadata": {},
   "outputs": [
    {
     "name": "stdout",
     "output_type": "stream",
     "text": [
      "         * \n",
      "       * * * \n",
      "     * * * * * \n",
      "   * * * * * * * \n",
      " * * * * * * * * * \n",
      "  * * * * * * * *\n",
      "    * * * * * *\n",
      "      * * * *\n",
      "        * *\n"
     ]
    }
   ],
   "source": [
    "def diamond(n):\n",
    "    for i in range(1, n+1, 2):\n",
    "        print((n-i)*\" \"+i*\"* \")\n",
    "    for i in range(1, n-1, 2):\n",
    "        print(i*\" \"+(n-1-i)*\" *\")\n",
    "\n",
    "diamond(10)"
   ]
  },
  {
   "cell_type": "code",
   "execution_count": 78,
   "metadata": {},
   "outputs": [
    {
     "name": "stdout",
     "output_type": "stream",
     "text": [
      "         * \n",
      "       * * * \n",
      "     * * * * * \n",
      "   * * * * * * * \n",
      " * * * * * * * * * \n"
     ]
    }
   ],
   "source": [
    "n = 10\n",
    "i = 1\n",
    "while i < n+1:\n",
    "    print((n-i)*\" \"+i*\"* \")\n",
    "    i += 2"
   ]
  },
  {
   "cell_type": "code",
   "execution_count": null,
   "metadata": {},
   "outputs": [],
   "source": []
  },
  {
   "cell_type": "code",
   "execution_count": null,
   "metadata": {},
   "outputs": [],
   "source": []
  }
 ],
 "metadata": {
  "kernelspec": {
   "display_name": "Python 3",
   "language": "python",
   "name": "python3"
  },
  "language_info": {
   "codemirror_mode": {
    "name": "ipython",
    "version": 3
   },
   "file_extension": ".py",
   "mimetype": "text/x-python",
   "name": "python",
   "nbconvert_exporter": "python",
   "pygments_lexer": "ipython3",
   "version": "3.10.0"
  }
 },
 "nbformat": 4,
 "nbformat_minor": 2
}
