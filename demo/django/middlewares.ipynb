{
 "cells": [
  {
   "cell_type": "markdown",
   "metadata": {},
   "source": [
    "https://medium.com/scalereal/everything-you-need-to-know-about-middleware-in-django-2a3bd3853cd6"
   ]
  },
  {
   "cell_type": "markdown",
   "metadata": {},
   "source": [
    "```python\n",
    "def simple_middleware(get_response):\n",
    "    # One-time configuration and initialization.\n",
    "\n",
    "    def middleware(request):\n",
    "        # Code to be executed for each request before\n",
    "        # the view (and later middleware) are called.\n",
    "\n",
    "        response = get_response(request)\n",
    "\n",
    "        # Code to be executed for each request/response after\n",
    "        # the view is called.\n",
    "\n",
    "        return response\n",
    "\n",
    "    return middleware\n",
    "```"
   ]
  },
  {
   "cell_type": "markdown",
   "metadata": {},
   "source": [
    "```python\n",
    "class ExampleMiddleware:\n",
    "\n",
    "    def _init_(self, get_response):\n",
    "        self.get_response = get_response\n",
    "\n",
    "    def _call_(self, request):\n",
    "\n",
    "        # Code that is executed in each request before the view is called\n",
    "\n",
    "        response = self.get_response(request)\n",
    "\n",
    "        # Code that is executed in each request after the view is called\n",
    "        return response\n",
    "\n",
    "    def process_view(request, view_func, view_args, view_kwargs):\n",
    "        # This code is executed just before the view is called\n",
    "\n",
    "    def process_exception(request, exception):\n",
    "        # This code is executed if an exception is raised\n",
    "\n",
    "    def process_template_response(request, response):\n",
    "        # This code is executed if the response contains a render() method\n",
    "        return response\n",
    "```"
   ]
  },
  {
   "cell_type": "markdown",
   "metadata": {},
   "source": []
  },
  {
   "cell_type": "code",
   "execution_count": null,
   "metadata": {},
   "outputs": [],
   "source": []
  }
 ],
 "metadata": {
  "language_info": {
   "name": "python"
  }
 },
 "nbformat": 4,
 "nbformat_minor": 2
}
