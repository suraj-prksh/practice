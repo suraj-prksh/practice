{
 "cells": [
  {
   "cell_type": "markdown",
   "metadata": {},
   "source": [
    "Lambda functions in Python are anonymous functions, which means they are functions without a name. They are also known as lambda expressions. Lambda functions are often used for short, simple operations where a full function definition would be overly verbose.\n",
    "\n",
    "The basic syntax of a lambda function is:\n",
    "\n",
    "```python\n",
    "lambda arguments: expression\n",
    "```\n",
    "\n",
    "Here, `lambda` is the keyword, followed by a list of arguments, a colon, and an expression. The expression is evaluated and returned when the lambda function is called.\n",
    "\n",
    "Here's a simple example of a lambda function that adds two numbers:\n",
    "\n",
    "```python\n",
    "add = lambda x, y: x + y\n",
    "result = add(3, 5)\n",
    "print(result)  # Output: 8\n",
    "```\n",
    "\n",
    "Lambda functions are commonly used with functions like `map()`, `filter()`, and `sorted()`.\n",
    "\n",
    "```python\n",
    "# Using lambda with map()\n",
    "numbers = [1, 2, 3, 4, 5]\n",
    "squared = list(map(lambda x: x**2, numbers))\n",
    "print(squared)  # Output: [1, 4, 9, 16, 25]\n",
    "\n",
    "# Using lambda with filter()\n",
    "evens = list(filter(lambda x: x % 2 == 0, numbers))\n",
    "print(evens)    # Output: [2, 4]\n",
    "\n",
    "# Using lambda with sorted()\n",
    "words = [\"apple\", \"banana\", \"cherry\", \"date\"]\n",
    "sorted_words = sorted(words, key=lambda x: len(x))\n",
    "print(sorted_words)  # Output: ['date', 'apple', 'banana', 'cherry']\n",
    "```\n",
    "\n",
    "While lambda functions are concise and handy for simple operations, they are not suitable for complex logic or functions that require multiple expressions. In such cases, it's better to use a regular named function."
   ]
  },
  {
   "cell_type": "code",
   "execution_count": 1,
   "metadata": {},
   "outputs": [
    {
     "name": "stdout",
     "output_type": "stream",
     "text": [
      "[1, 4, 9, 16, 25]\n"
     ]
    }
   ],
   "source": [
    "number = [1,2,3,4,5]\n",
    "squared = list(map(lambda x: x**2, number))\n",
    "print(squared)"
   ]
  },
  {
   "cell_type": "code",
   "execution_count": 3,
   "metadata": {},
   "outputs": [
    {
     "name": "stdout",
     "output_type": "stream",
     "text": [
      "[2, 4]\n"
     ]
    }
   ],
   "source": [
    "evens = list(filter(lambda x: x%2 == 0, number))\n",
    "print(evens)"
   ]
  },
  {
   "cell_type": "code",
   "execution_count": 7,
   "metadata": {},
   "outputs": [
    {
     "name": "stdout",
     "output_type": "stream",
     "text": [
      "['cherry', 'banana', 'apple', 'date']\n"
     ]
    }
   ],
   "source": [
    "words = [\"apple\", \"banana\", \"cherry\", \"date\"]\n",
    "sorted_word = sorted(words, key=lambda x: x[2])\n",
    "print(sorted_word)"
   ]
  },
  {
   "cell_type": "code",
   "execution_count": 1,
   "metadata": {},
   "outputs": [],
   "source": [
    "numbers = [1, 2, 3, 4, 5]"
   ]
  },
  {
   "cell_type": "code",
   "execution_count": 6,
   "metadata": {},
   "outputs": [],
   "source": [
    "a = list(map(lambda x: x*2, numbers))"
   ]
  },
  {
   "cell_type": "code",
   "execution_count": 7,
   "metadata": {},
   "outputs": [
    {
     "data": {
      "text/plain": [
       "[2, 4, 6, 8, 10]"
      ]
     },
     "execution_count": 7,
     "metadata": {},
     "output_type": "execute_result"
    }
   ],
   "source": [
    "a"
   ]
  },
  {
   "cell_type": "code",
   "execution_count": 8,
   "metadata": {},
   "outputs": [
    {
     "name": "stdout",
     "output_type": "stream",
     "text": [
      "[1, 5, 6, 8, 91]\n"
     ]
    }
   ],
   "source": [
    "numbers = [5,6,8,91,1]\n",
    "\n",
    "b = sorted(numbers, key=lambda x: x)\n",
    "print(b)"
   ]
  },
  {
   "cell_type": "code",
   "execution_count": 11,
   "metadata": {},
   "outputs": [
    {
     "data": {
      "text/plain": [
       "[6, 8]"
      ]
     },
     "execution_count": 11,
     "metadata": {},
     "output_type": "execute_result"
    }
   ],
   "source": [
    "c = list(filter(lambda x: x%2 == 0, numbers))\n",
    "c"
   ]
  },
  {
   "cell_type": "code",
   "execution_count": 10,
   "metadata": {},
   "outputs": [
    {
     "data": {
      "text/plain": [
       "<filter at 0x26b10a3d300>"
      ]
     },
     "execution_count": 10,
     "metadata": {},
     "output_type": "execute_result"
    }
   ],
   "source": [
    "c"
   ]
  },
  {
   "cell_type": "code",
   "execution_count": null,
   "metadata": {},
   "outputs": [],
   "source": []
  }
 ],
 "metadata": {
  "kernelspec": {
   "display_name": "Python 3",
   "language": "python",
   "name": "python3"
  },
  "language_info": {
   "codemirror_mode": {
    "name": "ipython",
    "version": 3
   },
   "file_extension": ".py",
   "mimetype": "text/x-python",
   "name": "python",
   "nbconvert_exporter": "python",
   "pygments_lexer": "ipython3",
   "version": "3.10.0"
  }
 },
 "nbformat": 4,
 "nbformat_minor": 2
}
