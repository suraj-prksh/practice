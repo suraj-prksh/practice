{
 "cells": [
  {
   "cell_type": "markdown",
   "metadata": {},
   "source": [
    "Mixins in Python refer to a design pattern where a class provides a specific set of functionality that can be easily reused by other classes. Mixins are not meant to stand alone; instead, they are intended to be combined with other classes to enhance or extend their functionality.\n",
    "\n",
    "A mixin class typically does not provide a complete implementation of a class but offers specific behaviors or functionalities. Multiple mixins can be combined to create a new class with a combination of features from different mixins.\n",
    "\n",
    "Here's a simple example to illustrate the concept of mixins:\n",
    "\n",
    "```python\n",
    "# Mixin 1\n",
    "class LoggingMixin:\n",
    "    def log(self, message):\n",
    "        print(f\"LOG: {message}\")\n",
    "\n",
    "# Mixin 2\n",
    "class MathMixin:\n",
    "    def add(self, a, b):\n",
    "        return a + b\n",
    "\n",
    "# Main class combining mixins\n",
    "class Calculator(LoggingMixin, MathMixin):\n",
    "    def __init__(self, name):\n",
    "        self.name = name\n",
    "\n",
    "# Creating an instance of the class\n",
    "calculator = Calculator(\"MyCalculator\")\n",
    "\n",
    "# Using methods from mixins\n",
    "calculator.log(\"Starting calculations...\")\n",
    "result = calculator.add(3, 5)\n",
    "calculator.log(f\"Result: {result}\")\n",
    "```\n",
    "\n",
    "In this example, `LoggingMixin` provides a simple logging method, and `MathMixin` provides a basic addition method. The `Calculator` class combines both mixins, inheriting their functionalities. This way, the `Calculator` class gains the ability to log messages and perform mathematical operations.\n",
    "\n",
    "Key points about mixins:\n",
    "\n",
    "1. **Reusability:** Mixins promote code reusability by allowing you to compose classes with specific functionalities without the need for duplicating code.\n",
    "\n",
    "2. **Composition over Inheritance:** Instead of relying solely on class inheritance, mixins allow you to compose functionality from multiple sources, avoiding issues associated with deep inheritance hierarchies.\n",
    "\n",
    "3. **Modularity:** Mixins contribute to a modular and maintainable code structure by encapsulating specific functionalities in separate classes.\n",
    "\n",
    "Remember that the order in which mixins are inherited matters because it determines the method resolution order (MRO) in Python. When multiple mixins or classes provide methods with the same name, the order of inheritance affects which method will be called.\n",
    "\n",
    "While mixins can be powerful, it's essential to use them judiciously and be mindful of potential naming conflicts or unintended consequences."
   ]
  },
  {
   "cell_type": "code",
   "execution_count": 1,
   "metadata": {},
   "outputs": [],
   "source": [
    "class LoggingMixin:\n",
    "    def log(self, message):\n",
    "        print(f\"LOG {message}\")\n",
    "\n",
    "class MathMixin:\n",
    "    def add(self, a, b):\n",
    "        return a + b\n",
    "    \n",
    "class Calculator(LoggingMixin, MathMixin):\n",
    "    def __init__(self, name):\n",
    "        self.name = name"
   ]
  },
  {
   "cell_type": "code",
   "execution_count": 2,
   "metadata": {},
   "outputs": [],
   "source": [
    "calculator = Calculator(\"MyCalculator\")"
   ]
  },
  {
   "cell_type": "code",
   "execution_count": 4,
   "metadata": {},
   "outputs": [
    {
     "name": "stdout",
     "output_type": "stream",
     "text": [
      "LOG Starting calculations...\n",
      "LOG Result: 8\n"
     ]
    }
   ],
   "source": [
    "calculator.log(\"Starting calculations...\")\n",
    "result = calculator.add(3, 5)\n",
    "calculator.log(f\"Result: {result}\")"
   ]
  },
  {
   "cell_type": "code",
   "execution_count": 3,
   "metadata": {},
   "outputs": [],
   "source": [
    "class LoggingMixin:\n",
    "    def log(self, message):\n",
    "        print(f\"LOGS: {message}\")\n",
    "\n",
    "class MathMixin:\n",
    "    def add(self, a,b):\n",
    "        return a+b\n",
    "    \n",
    "class Calculator(LoggingMixin, MathMixin):\n",
    "    def __init__(self, name):\n",
    "        self.name = name"
   ]
  },
  {
   "cell_type": "code",
   "execution_count": 5,
   "metadata": {},
   "outputs": [],
   "source": [
    "c = Calculator(\"Calculator\")"
   ]
  },
  {
   "cell_type": "code",
   "execution_count": 8,
   "metadata": {},
   "outputs": [
    {
     "name": "stdout",
     "output_type": "stream",
     "text": [
      "LOGS: Some message\n",
      "LOGS: END 10\n"
     ]
    }
   ],
   "source": [
    "c.log(\"Some message\")\n",
    "result = c.add(5,5)\n",
    "c.log(f\"END {result}\")"
   ]
  },
  {
   "cell_type": "code",
   "execution_count": null,
   "metadata": {},
   "outputs": [],
   "source": []
  }
 ],
 "metadata": {
  "kernelspec": {
   "display_name": "Python 3",
   "language": "python",
   "name": "python3"
  },
  "language_info": {
   "codemirror_mode": {
    "name": "ipython",
    "version": 3
   },
   "file_extension": ".py",
   "mimetype": "text/x-python",
   "name": "python",
   "nbconvert_exporter": "python",
   "pygments_lexer": "ipython3",
   "version": "3.10.0"
  }
 },
 "nbformat": 4,
 "nbformat_minor": 2
}
