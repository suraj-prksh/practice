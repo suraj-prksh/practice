{
 "cells": [
  {
   "cell_type": "markdown",
   "metadata": {},
   "source": [
    "Encapsulation is one of the fundamental principles of object-oriented programming (OOP) that involves bundling the data (attributes) and the methods (functions) that operate on the data into a single unit called a class. It also involves restricting access to the internal details of an object and allowing access only through well-defined interfaces.\n",
    "\n",
    "In Python, encapsulation is implemented using private and public access modifiers and naming conventions:\n",
    "\n",
    "1. **Public Attributes and Methods:**\n",
    "   - Attributes and methods that are accessible from outside the class are considered public. They can be accessed directly.\n",
    "\n",
    "   ```python\n",
    "   class Car:\n",
    "       def __init__(self, brand, model):\n",
    "           self.brand = brand  # Public attribute\n",
    "           self.model = model  # Public attribute\n",
    "\n",
    "       def start_engine(self):  # Public method\n",
    "           return f\"{self.brand} {self.model}'s engine started.\"\n",
    "   ```\n",
    "\n",
    "   Instances of the `Car` class can access the `brand` and `model` attributes and call the `start_engine` method directly.\n",
    "\n",
    "   ```python\n",
    "   my_car = Car(\"Toyota\", \"Camry\")\n",
    "   print(my_car.brand)          # Output: Toyota\n",
    "   print(my_car.start_engine())  # Output: Toyota Camry's engine started.\n",
    "   ```\n",
    "\n",
    "2. **Private Attributes and Methods:**\n",
    "   - Attributes and methods that are meant to be private to the class (not accessible from outside the class) are prefixed with a double underscore `__`.\n",
    "\n",
    "   ```python\n",
    "   class BankAccount:\n",
    "       def __init__(self, account_number, balance):\n",
    "           self.__account_number = account_number  # Private attribute\n",
    "           self.__balance = balance                # Private attribute\n",
    "\n",
    "       def __validate_transaction(self, amount):  # Private method\n",
    "           return amount > 0\n",
    "\n",
    "       def deposit(self, amount):\n",
    "           if self.__validate_transaction(amount):\n",
    "               self.__balance += amount\n",
    "               return f\"Deposit successful. New balance: {self.__balance}\"\n",
    "           else:\n",
    "               return \"Invalid deposit amount.\"\n",
    "\n",
    "   ```\n",
    "\n",
    "   The `__account_number` and `__balance` attributes, as well as the `__validate_transaction` method, are considered private.\n",
    "\n",
    "   ```python\n",
    "   my_account = BankAccount(\"123456\", 1000)\n",
    "   print(my_account.__balance)  # This would raise an AttributeError\n",
    "\n",
    "   # Accessing private attributes and methods through public methods\n",
    "   print(my_account.deposit(500))  # Output: Deposit successful. New balance: 1500\n",
    "   ```\n",
    "\n",
    "   Private attributes and methods are not directly accessible from outside the class, but they can be accessed or modified through public methods (getters and setters) if provided.\n",
    "\n",
    "Encapsulation helps in controlling the access to the internal details of a class, preventing unintended interference or modification of the object's state. It also provides a way to implement data hiding and information hiding, contributing to a more robust and maintainable codebase."
   ]
  },
  {
   "cell_type": "code",
   "execution_count": 1,
   "metadata": {},
   "outputs": [],
   "source": [
    "class Car:\n",
    "    def __init__(self, brand, model):\n",
    "        self.brand = brand  # Public attribute\n",
    "        self.model = model  # Public attribute\n",
    "\n",
    "    def start_engine(self):  # Public method\n",
    "        return f\"{self.brand} {self.model}'s engine started.\""
   ]
  },
  {
   "cell_type": "code",
   "execution_count": 2,
   "metadata": {},
   "outputs": [],
   "source": [
    "class BankAccount:\n",
    "    def __init__(self, account_number, balance):\n",
    "        self.__account_number = account_number  # Private attribute\n",
    "        self.__balance = balance                # Private attribute\n",
    "\n",
    "    def __validate_transaction(self, amount):  # Private method\n",
    "        return amount > 0\n",
    "\n",
    "    def deposit(self, amount):\n",
    "        if self.__validate_transaction(amount):\n",
    "            self.__balance += amount\n",
    "            return f\"Deposit successful. New balance: {self.__balance}\"\n",
    "        else:\n",
    "            return \"Invalid deposit amount.\""
   ]
  },
  {
   "cell_type": "code",
   "execution_count": 3,
   "metadata": {},
   "outputs": [],
   "source": [
    "my_account = BankAccount(\"123456\", 1000)"
   ]
  },
  {
   "cell_type": "code",
   "execution_count": 5,
   "metadata": {},
   "outputs": [
    {
     "ename": "AttributeError",
     "evalue": "'BankAccount' object has no attribute '__validate_transaction'",
     "output_type": "error",
     "traceback": [
      "\u001b[1;31m---------------------------------------------------------------------------\u001b[0m",
      "\u001b[1;31mAttributeError\u001b[0m                            Traceback (most recent call last)",
      "Cell \u001b[1;32mIn [5], line 1\u001b[0m\n\u001b[1;32m----> 1\u001b[0m \u001b[38;5;28mprint\u001b[39m(\u001b[43mmy_account\u001b[49m\u001b[38;5;241;43m.\u001b[39;49m\u001b[43m__validate_transaction\u001b[49m)\n",
      "\u001b[1;31mAttributeError\u001b[0m: 'BankAccount' object has no attribute '__validate_transaction'"
     ]
    }
   ],
   "source": [
    "print(my_account.__validate_transaction)"
   ]
  },
  {
   "cell_type": "code",
   "execution_count": null,
   "metadata": {},
   "outputs": [],
   "source": []
  }
 ],
 "metadata": {
  "kernelspec": {
   "display_name": "Python 3",
   "language": "python",
   "name": "python3"
  },
  "language_info": {
   "codemirror_mode": {
    "name": "ipython",
    "version": 3
   },
   "file_extension": ".py",
   "mimetype": "text/x-python",
   "name": "python",
   "nbconvert_exporter": "python",
   "pygments_lexer": "ipython3",
   "version": "3.10.0"
  }
 },
 "nbformat": 4,
 "nbformat_minor": 2
}
