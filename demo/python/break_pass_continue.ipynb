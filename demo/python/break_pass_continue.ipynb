{
 "cells": [
  {
   "cell_type": "markdown",
   "metadata": {},
   "source": [
    "In Python, `break`, `pass`, and `continue` are control flow statements used in loops to alter the normal execution of the program.\n",
    "\n",
    "### 1. `break` Statement:\n",
    "\n",
    "The `break` statement is used to exit a loop prematurely. It is often used within conditional statements to terminate a loop based on a certain condition.\n",
    "\n",
    "```python\n",
    "for i in range(5):\n",
    "    if i == 3:\n",
    "        break\n",
    "    print(i)\n",
    "```\n",
    "\n",
    "In this example, the loop will print values from 0 to 2, and when `i` becomes 3, the `break` statement is encountered, and the loop is terminated.\n",
    "\n",
    "### 2. `pass` Statement:\n",
    "\n",
    "The `pass` statement is a no-operation statement. It is used when syntactically some code is required, but you don't want to execute any code.\n",
    "\n",
    "```python\n",
    "for i in range(5):\n",
    "    if i == 3:\n",
    "        pass\n",
    "    else:\n",
    "        print(i)\n",
    "```\n",
    "\n",
    "In this example, when `i` is equal to 3, the `pass` statement is executed, and nothing happens. The loop continues without any effect.\n",
    "\n",
    "### 3. `continue` Statement:\n",
    "\n",
    "The `continue` statement is used to skip the rest of the code inside a loop for the current iteration and move to the next iteration.\n",
    "\n",
    "```python\n",
    "for i in range(5):\n",
    "    if i == 3:\n",
    "        continue\n",
    "    print(i)\n",
    "```\n",
    "\n",
    "In this example, when `i` is equal to 3, the `continue` statement is encountered, and the rest of the loop code for that iteration is skipped. The loop continues with the next iteration.\n",
    "\n",
    "These control flow statements are commonly used in `for` and `while` loops to influence the loop's behavior based on certain conditions. They provide flexibility in handling different scenarios within loops."
   ]
  },
  {
   "cell_type": "code",
   "execution_count": 5,
   "metadata": {},
   "outputs": [
    {
     "name": "stdout",
     "output_type": "stream",
     "text": [
      "0\n",
      "1\n",
      "2\n",
      "3\n",
      "3\n"
     ]
    }
   ],
   "source": [
    "for i in range(10):\n",
    "    if i == 3:\n",
    "        pass\n",
    "        print(i)\n",
    "    if i == 4:\n",
    "        continue\n",
    "        print(\"44\")\n",
    "    # print(i)\n",
    "    if i == 5:\n",
    "        break\n",
    "        print(55)\n",
    "    print(i)"
   ]
  },
  {
   "cell_type": "code",
   "execution_count": null,
   "metadata": {},
   "outputs": [],
   "source": []
  }
 ],
 "metadata": {
  "kernelspec": {
   "display_name": "Python 3",
   "language": "python",
   "name": "python3"
  },
  "language_info": {
   "codemirror_mode": {
    "name": "ipython",
    "version": 3
   },
   "file_extension": ".py",
   "mimetype": "text/x-python",
   "name": "python",
   "nbconvert_exporter": "python",
   "pygments_lexer": "ipython3",
   "version": "3.10.0"
  }
 },
 "nbformat": 4,
 "nbformat_minor": 2
}
