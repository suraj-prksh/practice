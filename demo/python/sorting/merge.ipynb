{
 "cells": [
  {
   "cell_type": "markdown",
   "metadata": {},
   "source": [
    "Merge Sort is a divide-and-conquer algorithm for sorting an array. The basic idea behind Merge Sort is to divide the array into two halves, recursively sort each half, and then merge the sorted halves to produce a single sorted array.\n",
    "\n",
    "Here's a step-by-step explanation of the Merge Sort algorithm:\n",
    "\n",
    "1. **Divide:**\n",
    "   - If the array has zero or one element, it is already sorted.\n",
    "   - Otherwise, divide the array into two halves.\n",
    "\n",
    "2. **Conquer (Recursively Sort):**\n",
    "   - Recursively sort each half of the array.\n",
    "   - This step involves applying the Merge Sort algorithm to each half of the array until the base case (zero or one element) is reached.\n",
    "\n",
    "3. **Merge:**\n",
    "   - Merge the two sorted halves into a single sorted array.\n",
    "   - The merging process involves comparing elements from the two halves and arranging them in the correct order.\n",
    "\n",
    "The key operation in Merge Sort is the merging step, which efficiently combines two sorted arrays into a single sorted array. This is achieved by comparing the elements of the two arrays and placing them in the correct order.\n",
    "\n",
    "Here's an example with the array `[64, 34, 25, 12, 22, 11, 90]`:\n",
    "\n",
    "- **Divide:**\n",
    "  - The array is divided into two halves: `[64, 34, 25]` and `[12, 22, 11, 90]`.\n",
    "\n",
    "- **Recursively Sort:**\n",
    "  - Each half is recursively sorted using the same Merge Sort algorithm.\n",
    "  - `[64, 34, 25]` is divided into `[64]`, `[34]`, and `[25]`.\n",
    "  - `[12, 22, 11, 90]` is divided into `[12]`, `[22]`, `[11]`, and `[90]`.\n",
    "\n",
    "- **Merge:**\n",
    "  - The sorted halves are merged. For example, the two halves `[34]` and `[25]` are merged into `[25, 34]`.\n",
    "  - The process continues until the entire array is sorted.\n",
    "\n",
    "The time complexity of Merge Sort is O(n log n), making it efficient for large datasets. It is a stable sorting algorithm, meaning that it preserves the relative order of equal elements in the sorted output. Additionally, Merge Sort is suitable for linked lists and external sorting scenarios."
   ]
  },
  {
   "cell_type": "markdown",
   "metadata": {},
   "source": [
    "Merge Sort is a divide-and-conquer algorithm that divides the input array into two halves, recursively sorts each half, and then merges the sorted halves. Here's an implementation of Merge Sort in Python:\n",
    "\n",
    "```python\n",
    "def merge_sort(arr):\n",
    "    if len(arr) > 1:\n",
    "        mid = len(arr) // 2  # Finding the middle of the array\n",
    "        left_half = arr[:mid]  # Dividing the array into two halves\n",
    "        right_half = arr[mid:]\n",
    "\n",
    "        merge_sort(left_half)  # Recursive call on the left half\n",
    "        merge_sort(right_half)  # Recursive call on the right half\n",
    "\n",
    "        # Merge the sorted halves\n",
    "        i = j = k = 0\n",
    "        while i < len(left_half) and j < len(right_half):\n",
    "            if left_half[i] < right_half[j]:\n",
    "                arr[k] = left_half[i]\n",
    "                i += 1\n",
    "            else:\n",
    "                arr[k] = right_half[j]\n",
    "                j += 1\n",
    "            k += 1\n",
    "\n",
    "        # Check for any remaining elements in the left and right halves\n",
    "        while i < len(left_half):\n",
    "            arr[k] = left_half[i]\n",
    "            i += 1\n",
    "            k += 1\n",
    "\n",
    "        while j < len(right_half):\n",
    "            arr[k] = right_half[j]\n",
    "            j += 1\n",
    "            k += 1\n",
    "\n",
    "# Example usage:\n",
    "my_list = [64, 34, 25, 12, 22, 11, 90]\n",
    "merge_sort(my_list)\n",
    "\n",
    "print(\"Sorted array:\", my_list)\n",
    "```\n",
    "\n",
    "In this implementation:\n",
    "\n",
    "- The `merge_sort` function recursively divides the input array into two halves until each subarray has only one element (base case).\n",
    "- The `merge` step combines the sorted halves back together in a sorted manner.\n",
    "- The merging is done by comparing elements from the left and right halves and placing them in the correct order in the original array.\n",
    "\n",
    "Merge Sort has a time complexity of O(n log n), making it more efficient than quadratic time complexity algorithms for large datasets. It is a stable sorting algorithm and is often used for its efficiency, especially in scenarios where a stable sorting algorithm is required."
   ]
  },
  {
   "cell_type": "code",
   "execution_count": 2,
   "metadata": {},
   "outputs": [
    {
     "data": {
      "text/plain": [
       "[11, 12, 22, 25, 34, 64, 90]"
      ]
     },
     "execution_count": 2,
     "metadata": {},
     "output_type": "execute_result"
    }
   ],
   "source": [
    "def merge_sort(arr):\n",
    "    if len(arr) > 1:\n",
    "        mid = len(arr) // 2\n",
    "        left_half = arr[:mid]\n",
    "        right_half = arr[mid:]\n",
    "\n",
    "        merge_sort(left_half)\n",
    "        merge_sort(right_half)\n",
    "\n",
    "        i=j=k=0\n",
    "\n",
    "        while i < len(left_half) and j < len(right_half):\n",
    "            if left_half[i] < right_half[j]:\n",
    "                arr[k] = left_half[i]\n",
    "                i += 1\n",
    "            else:\n",
    "                arr[k] = right_half[j]\n",
    "                j += 1\n",
    "            k += 1\n",
    "        \n",
    "        while i < len(left_half):\n",
    "            arr[k] = left_half[i]\n",
    "            i += 1\n",
    "            k += 1\n",
    "\n",
    "        while j < len(right_half):\n",
    "            arr[k] = right_half[j]\n",
    "            j += 1\n",
    "            k += 1\n",
    "    return arr\n",
    "my_list = [64, 34, 25, 12, 22, 11, 90]\n",
    "merge_sort(my_list)"
   ]
  },
  {
   "cell_type": "code",
   "execution_count": 3,
   "metadata": {},
   "outputs": [
    {
     "data": {
      "text/plain": [
       "[11, 12, 22, 25, 34, 64, 90]"
      ]
     },
     "execution_count": 3,
     "metadata": {},
     "output_type": "execute_result"
    }
   ],
   "source": [
    "def merge2(arr):\n",
    "\n",
    "    if len(arr) > 1:\n",
    "        mid = len(arr) // 2\n",
    "        left_half = arr[:mid]\n",
    "        right_half = arr[mid:]\n",
    "\n",
    "        merge2(left_half)\n",
    "        merge2(right_half)\n",
    "\n",
    "        i=j=k=0\n",
    "        while i < len(left_half) and j < len(right_half):\n",
    "            if left_half[i] < right_half[j]:\n",
    "                arr[k] = left_half[i]\n",
    "                i += 1\n",
    "            else:\n",
    "                arr[k] = right_half[j]\n",
    "                j += 1\n",
    "            k += 1\n",
    "        \n",
    "        while i < len(left_half):\n",
    "            arr[k] = left_half[i]\n",
    "            i += 1\n",
    "            k += 1\n",
    "        \n",
    "        while j < len(right_half):\n",
    "            arr[k] = right_half[j]\n",
    "            j+=1\n",
    "            k+=1\n",
    "    return arr\n",
    "\n",
    "    \n",
    "my_list = [64, 34, 25, 12, 22, 11, 90]\n",
    "merge2(my_list)"
   ]
  },
  {
   "cell_type": "code",
   "execution_count": null,
   "metadata": {},
   "outputs": [],
   "source": []
  }
 ],
 "metadata": {
  "kernelspec": {
   "display_name": "Python 3",
   "language": "python",
   "name": "python3"
  },
  "language_info": {
   "codemirror_mode": {
    "name": "ipython",
    "version": 3
   },
   "file_extension": ".py",
   "mimetype": "text/x-python",
   "name": "python",
   "nbconvert_exporter": "python",
   "pygments_lexer": "ipython3",
   "version": "3.10.0"
  }
 },
 "nbformat": 4,
 "nbformat_minor": 2
}
