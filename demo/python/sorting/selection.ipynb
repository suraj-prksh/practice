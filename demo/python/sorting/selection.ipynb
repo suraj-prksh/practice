{
 "cells": [
  {
   "cell_type": "markdown",
   "metadata": {},
   "source": [
    "Selection Sort is a simple sorting algorithm that works by dividing the input list into two parts: a sorted and an unsorted region. The algorithm repeatedly selects the smallest (or largest, depending on the sorting order) element from the unsorted region and swaps it with the first element of the unsorted region. This process is repeated until the entire list is sorted.\n",
    "\n",
    "Here's a step-by-step explanation of the Selection Sort algorithm:\n",
    "\n",
    "1. **Initialization:**\n",
    "   - The list is divided into two regions: a sorted region and an unsorted region.\n",
    "   - Initially, the entire list is considered as an unsorted region.\n",
    "\n",
    "2. **Finding the Minimum Element:**\n",
    "   - The algorithm scans the unsorted region to find the minimum element.\n",
    "\n",
    "3. **Swapping:**\n",
    "   - Once the minimum element is found, it is swapped with the first element of the unsorted region. This effectively adds the minimum element to the sorted region.\n",
    "\n",
    "4. **Updating Regions:**\n",
    "   - The boundaries of the sorted and unsorted regions are updated.\n",
    "   - The newly sorted region now includes one more element, and the unsorted region has one less element.\n",
    "\n",
    "5. **Repeating:**\n",
    "   - Steps 2-4 are repeated until the entire list is sorted.\n",
    "\n",
    "Here's a simple example to illustrate the steps:\n",
    "\n",
    "Consider the list `[64, 34, 25, 12, 22, 11, 90]`.\n",
    "\n",
    "- Initially, the entire list is unsorted.\n",
    "- The minimum element in the unsorted region is `11`, so it is swapped with the first element (`64`).\n",
    "- Now, the sorted region is `[11]`, and the unsorted region is `[64, 34, 25, 12, 22, 90]`.\n",
    "- Repeat the process, and the next minimum element is `12`, which is swapped with the second element (`64`).\n",
    "- Continue this process until the entire list is sorted.\n",
    "\n",
    "The time complexity of Selection Sort is O(n^2), where n is the number of elements in the list. While Selection Sort is not as efficient as some other sorting algorithms, it is easy to understand and implement."
   ]
  },
  {
   "cell_type": "markdown",
   "metadata": {},
   "source": [
    "Selection sort is a simple sorting algorithm that works by repeatedly finding the minimum element from the unsorted part of the array and putting it at the beginning. Here's an implementation of selection sort in Python:\n",
    "\n",
    "```python\n",
    "def selection_sort(arr):\n",
    "    n = len(arr)\n",
    "\n",
    "    # Traverse through all array elements starting from 0 to n-1\n",
    "    for i in range(n):\n",
    "        # Find the minimum element in the remaining unsorted array\n",
    "        min_index = i\n",
    "        for j in range(i+1, n):\n",
    "            if arr[j] < arr[min_index]:\n",
    "                min_index = j\n",
    "\n",
    "        # Swap the found minimum element with the first element\n",
    "        arr[i], arr[min_index] = arr[min_index], arr[i]\n",
    "\n",
    "# Example usage:\n",
    "my_list = [64, 34, 25, 12, 22, 11, 90]\n",
    "selection_sort(my_list)\n",
    "\n",
    "print(\"Sorted array:\", my_list)\n",
    "```\n",
    "\n",
    "In this implementation:\n",
    "\n",
    "- The outer loop iterates through each element of the array.\n",
    "- The inner loop finds the index of the minimum element in the remaining unsorted part of the array.\n",
    "- After finding the minimum element, it is swapped with the first element in the unsorted part.\n",
    "- The process is repeated until the entire array is sorted.\n",
    "\n",
    "Selection sort has a time complexity of O(n^2), making it inefficient for large datasets. Other sorting algorithms like quicksort or mergesort are generally more efficient for practical use. Nonetheless, selection sort is easy to understand and implement, making it suitable for educational purposes or small datasets."
   ]
  },
  {
   "cell_type": "code",
   "execution_count": 4,
   "metadata": {},
   "outputs": [
    {
     "name": "stdout",
     "output_type": "stream",
     "text": [
      "[11, 34, 25, 12, 22, 64, 90]\n",
      "[11, 12, 25, 34, 22, 64, 90]\n",
      "[11, 12, 22, 34, 25, 64, 90]\n",
      "[11, 12, 22, 25, 34, 64, 90]\n",
      "[11, 12, 22, 25, 34, 64, 90]\n",
      "[11, 12, 22, 25, 34, 64, 90]\n",
      "[11, 12, 22, 25, 34, 64, 90]\n"
     ]
    },
    {
     "data": {
      "text/plain": [
       "[11, 12, 22, 25, 34, 64, 90]"
      ]
     },
     "execution_count": 4,
     "metadata": {},
     "output_type": "execute_result"
    }
   ],
   "source": [
    "def selection_sort(arr):\n",
    "    n = len(arr)\n",
    "    for i in range(n):\n",
    "        min_idx = i\n",
    "        for j in range(i+1, n):\n",
    "            if arr[j] < arr[min_idx]:\n",
    "                min_idx = j\n",
    "        \n",
    "        arr[i], arr[min_idx] = arr[min_idx], arr[i]\n",
    "        print(arr)\n",
    "    return arr\n",
    "\n",
    "\n",
    "my_list = [64, 34, 25, 12, 22, 11, 90]\n",
    "selection_sort(my_list)"
   ]
  },
  {
   "cell_type": "code",
   "execution_count": 3,
   "metadata": {},
   "outputs": [
    {
     "data": {
      "text/plain": [
       "[11, 12, 22, 25, 34, 64, 90]"
      ]
     },
     "execution_count": 3,
     "metadata": {},
     "output_type": "execute_result"
    }
   ],
   "source": [
    "def selection(arr):\n",
    "\n",
    "    n = len(arr)\n",
    "    for i in range(n):\n",
    "        min_idx = i\n",
    "        for j in range(i+1, n):\n",
    "            if arr[j] < arr[min_idx]:\n",
    "                min_idx = j\n",
    "        arr[i], arr[min_idx] = arr[min_idx], arr[i]\n",
    "    \n",
    "    return arr\n",
    "\n",
    "my_list = [64, 34, 25, 12, 22, 11, 90]\n",
    "selection(my_list)"
   ]
  },
  {
   "cell_type": "code",
   "execution_count": null,
   "metadata": {},
   "outputs": [],
   "source": []
  }
 ],
 "metadata": {
  "kernelspec": {
   "display_name": "Python 3",
   "language": "python",
   "name": "python3"
  },
  "language_info": {
   "codemirror_mode": {
    "name": "ipython",
    "version": 3
   },
   "file_extension": ".py",
   "mimetype": "text/x-python",
   "name": "python",
   "nbconvert_exporter": "python",
   "pygments_lexer": "ipython3",
   "version": "3.10.0"
  }
 },
 "nbformat": 4,
 "nbformat_minor": 2
}
