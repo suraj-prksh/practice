{
 "cells": [
  {
   "cell_type": "markdown",
   "metadata": {},
   "source": [
    "Bubble sort is a simple sorting algorithm that works by repeatedly stepping through the list, comparing adjacent elements, and swapping them if they are in the wrong order. The pass through the list is repeated until the list is sorted. The algorithm gets its name because smaller elements \"bubble\" to the top of the list.\n",
    "\n",
    "Here's a step-by-step explanation of the bubble sort algorithm:\n",
    "\n",
    "1. **Start from the beginning of the list:**\n",
    "   - The algorithm starts with the first element of the list.\n",
    "\n",
    "2. **Compare adjacent elements:**\n",
    "   - Compare the current element with the next element in the list.\n",
    "\n",
    "3. **Swap if necessary:**\n",
    "   - If the current element is greater than the next element, swap them. This process continues through the entire list, and after the first pass, the largest element will have moved to the end of the list.\n",
    "\n",
    "4. **Repeat for the remaining elements:**\n",
    "   - Repeat steps 2 and 3 for the remaining elements in the list, excluding the last element (which is already in its correct position after the first pass).\n",
    "\n",
    "5. **Continue until the list is sorted:**\n",
    "   - Continue this process for multiple passes until the entire list is sorted. In each pass, the largest unsorted element will \"bubble up\" to its correct position.\n",
    "\n",
    "The algorithm is called a \"bubble sort\" because the larger elements gradually move to the end of the list, similar to bubbles rising to the surface. However, it's important to note that bubble sort has a time complexity of O(n^2), making it inefficient for large datasets. More efficient sorting algorithms like quicksort or mergesort are commonly used in practice. Nonetheless, bubble sort is often used in educational settings to introduce the concept of sorting algorithms due to its simplicity."
   ]
  },
  {
   "cell_type": "markdown",
   "metadata": {},
   "source": [
    "Certainly! Bubble sort is a simple sorting algorithm that repeatedly steps through the list, compares adjacent elements, and swaps them if they are in the wrong order. Here's a Python implementation of the bubble sort algorithm:\n",
    "\n",
    "```python\n",
    "def bubble_sort(arr):\n",
    "    n = len(arr)\n",
    "\n",
    "    # Traverse through all array elements\n",
    "    for i in range(n):\n",
    "        # Last i elements are already in place, so we don't need to check them\n",
    "        for j in range(0, n-i-1):\n",
    "            # Swap if the element found is greater than the next element\n",
    "            if arr[j] > arr[j+1]:\n",
    "                arr[j], arr[j+1] = arr[j+1], arr[j]\n",
    "\n",
    "# Example usage:\n",
    "my_list = [64, 34, 25, 12, 22, 11, 90]\n",
    "bubble_sort(my_list)\n",
    "\n",
    "print(\"Sorted array:\", my_list)\n",
    "```\n",
    "\n",
    "This program defines a function `bubble_sort` that takes a list (`arr`) as input and sorts it using the bubble sort algorithm. The example list `my_list` is then sorted in place using the `bubble_sort` function, and the sorted array is printed.\n",
    "\n",
    "Keep in mind that bubble sort is not the most efficient sorting algorithm for large datasets, but it's a good educational example due to its simplicity. Other sorting algorithms like quicksort or mergesort are generally more efficient for practical use."
   ]
  },
  {
   "cell_type": "markdown",
   "metadata": {},
   "source": []
  },
  {
   "cell_type": "code",
   "execution_count": 3,
   "metadata": {},
   "outputs": [
    {
     "name": "stdout",
     "output_type": "stream",
     "text": [
      "[34, 25, 12, 22, 11, 64, 90]\n",
      "[25, 12, 22, 11, 34, 64, 90]\n",
      "[12, 22, 11, 25, 34, 64, 90]\n",
      "[12, 11, 22, 25, 34, 64, 90]\n",
      "[11, 12, 22, 25, 34, 64, 90]\n",
      "[11, 12, 22, 25, 34, 64, 90]\n",
      "[11, 12, 22, 25, 34, 64, 90]\n"
     ]
    },
    {
     "data": {
      "text/plain": [
       "[11, 12, 22, 25, 34, 64, 90]"
      ]
     },
     "execution_count": 3,
     "metadata": {},
     "output_type": "execute_result"
    }
   ],
   "source": [
    "def bubble_sort(arr):\n",
    "    n = len(arr)\n",
    "\n",
    "    for i in range(n):\n",
    "        for j in range(0, n-i-1):\n",
    "            if arr[j] > arr[j+1]:\n",
    "                arr[j], arr[j+1] = arr[j+1], arr[j]\n",
    "        print(arr)\n",
    "    return arr\n",
    "\n",
    "my_list = [64, 34, 25, 12, 22, 11, 90]\n",
    "bubble_sort(my_list)"
   ]
  },
  {
   "cell_type": "code",
   "execution_count": 1,
   "metadata": {},
   "outputs": [
    {
     "data": {
      "text/plain": [
       "[11, 12, 22, 25, 34, 64, 90]"
      ]
     },
     "execution_count": 1,
     "metadata": {},
     "output_type": "execute_result"
    }
   ],
   "source": [
    "def bubble(arr):\n",
    "    n = len(arr)\n",
    "    for i in range(n):\n",
    "        for j in range(0, n-i-1):\n",
    "            if arr[j] > arr[j+1]:\n",
    "                arr[j], arr[j+1] = arr[j+1], arr[j]\n",
    "    return arr\n",
    "\n",
    "\n",
    "my_list = [64, 34, 25, 12, 22, 11, 90]\n",
    "bubble(my_list)"
   ]
  },
  {
   "cell_type": "code",
   "execution_count": 2,
   "metadata": {},
   "outputs": [
    {
     "data": {
      "text/plain": [
       "[11, 12, 22, 25, 34, 64, 90]"
      ]
     },
     "execution_count": 2,
     "metadata": {},
     "output_type": "execute_result"
    }
   ],
   "source": [
    "def bubble3(arr):\n",
    "    n = len(arr)\n",
    "    for i in range(n):\n",
    "        for j in range(0, n-i-1):\n",
    "            if arr[j] > arr[j+1]:\n",
    "                arr[j], arr[j+1] = arr[j+1], arr[j]\n",
    "    return arr\n",
    "\n",
    "my_list = [64, 34, 25, 12, 22, 11, 90]\n",
    "bubble3(my_list)"
   ]
  },
  {
   "cell_type": "code",
   "execution_count": null,
   "metadata": {},
   "outputs": [],
   "source": []
  }
 ],
 "metadata": {
  "kernelspec": {
   "display_name": "Python 3",
   "language": "python",
   "name": "python3"
  },
  "language_info": {
   "codemirror_mode": {
    "name": "ipython",
    "version": 3
   },
   "file_extension": ".py",
   "mimetype": "text/x-python",
   "name": "python",
   "nbconvert_exporter": "python",
   "pygments_lexer": "ipython3",
   "version": "3.10.0"
  }
 },
 "nbformat": 4,
 "nbformat_minor": 2
}
