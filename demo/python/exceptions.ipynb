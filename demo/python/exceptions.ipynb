{
 "cells": [
  {
   "cell_type": "markdown",
   "metadata": {},
   "source": [
    "In Python, the `try`, `except`, `else`, and `finally` blocks are used to handle exceptions and manage code execution in the presence of errors. This construct is known as a try-except block.\n",
    "\n",
    "Here is the basic syntax:\n",
    "\n",
    "```python\n",
    "try:\n",
    "    # Code that may raise an exception\n",
    "    # ...\n",
    "\n",
    "except ExceptionType1 as e1:\n",
    "    # Code to handle exceptions of type ExceptionType1\n",
    "    # ...\n",
    "\n",
    "except ExceptionType2 as e2:\n",
    "    # Code to handle exceptions of type ExceptionType2\n",
    "    # ...\n",
    "\n",
    "else:\n",
    "    # Code that will be executed if no exception occurs\n",
    "    # ...\n",
    "\n",
    "finally:\n",
    "    # Code that will be executed regardless of whether an exception occurred or not\n",
    "    # ...\n",
    "```\n",
    "\n",
    "Here's a breakdown of each block:\n",
    "\n",
    "- **`try` Block:**\n",
    "  - This block contains the code that might raise an exception. If an exception occurs, the control flow moves to the corresponding `except` block.\n",
    "\n",
    "- **`except` Blocks:**\n",
    "  - These blocks handle specific exceptions. If an exception of the specified type occurs in the `try` block, the corresponding `except` block is executed.\n",
    "\n",
    "- **`else` Block:**\n",
    "  - This block is optional and is executed if no exceptions occur in the `try` block. It contains code that should run only when no exceptions are raised.\n",
    "\n",
    "- **`finally` Block:**\n",
    "  - This block is optional and is always executed, regardless of whether an exception occurred or not. It is useful for cleanup activities, such as closing files or releasing resources.\n",
    "\n",
    "Here's an example:\n",
    "\n",
    "```python\n",
    "try:\n",
    "    x = int(input(\"Enter a number: \"))\n",
    "    result = 10 / x\n",
    "\n",
    "except ValueError:\n",
    "    print(\"Invalid input. Please enter a valid number.\")\n",
    "\n",
    "except ZeroDivisionError:\n",
    "    print(\"Cannot divide by zero.\")\n",
    "\n",
    "else:\n",
    "    print(f\"The result is: {result}\")\n",
    "\n",
    "finally:\n",
    "    print(\"This code always runs, regardless of exceptions.\")\n",
    "```\n",
    "\n",
    "In this example, if the user enters a non-numeric value, a `ValueError` is caught. If the user enters 0, a `ZeroDivisionError` is caught. If the user enters a valid number, the division is performed, and the `else` block is executed. Finally, the `finally` block is executed, demonstrating that it always runs regardless of exceptions."
   ]
  },
  {
   "cell_type": "code",
   "execution_count": 5,
   "metadata": {},
   "outputs": [
    {
     "name": "stdout",
     "output_type": "stream",
     "text": [
      "Invalid input invalid literal for int() with base 10: 'l'\n",
      "runs always\n"
     ]
    }
   ],
   "source": [
    "try:\n",
    "    x = int(input(\"enter a number\"))\n",
    "    result = 10 / x\n",
    "except ValueError as e:\n",
    "    print(\"Invalid input\", e)\n",
    "except ZeroDivisionError as e:\n",
    "    print(\"Cannot divide by zero\", e)\n",
    "except:\n",
    "    print(\"EXCEPTION\")\n",
    "else:\n",
    "    print(\"result\", result)\n",
    "finally:\n",
    "    print(\"runs always\")\n"
   ]
  },
  {
   "cell_type": "code",
   "execution_count": 5,
   "metadata": {},
   "outputs": [
    {
     "name": "stdout",
     "output_type": "stream",
     "text": [
      "NO error orrured\n",
      "always runs\n"
     ]
    }
   ],
   "source": [
    "try:\n",
    "    x = int(input(\"Enter a number\"))\n",
    "    result = 10/x\n",
    "except ValueError as e:\n",
    "    print(\"ValueError\", e)\n",
    "except ZeroDivisionError as e:\n",
    "    print(\"Cannot divide by zero\", e)\n",
    "else:\n",
    "    print(\"NO error orrured\")\n",
    "finally:\n",
    "    print(\"always runs\")"
   ]
  },
  {
   "cell_type": "code",
   "execution_count": null,
   "metadata": {},
   "outputs": [],
   "source": []
  }
 ],
 "metadata": {
  "kernelspec": {
   "display_name": "Python 3",
   "language": "python",
   "name": "python3"
  },
  "language_info": {
   "codemirror_mode": {
    "name": "ipython",
    "version": 3
   },
   "file_extension": ".py",
   "mimetype": "text/x-python",
   "name": "python",
   "nbconvert_exporter": "python",
   "pygments_lexer": "ipython3",
   "version": "3.10.0"
  }
 },
 "nbformat": 4,
 "nbformat_minor": 2
}
