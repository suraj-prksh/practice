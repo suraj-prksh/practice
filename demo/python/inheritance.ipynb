{
 "cells": [
  {
   "cell_type": "markdown",
   "metadata": {},
   "source": [
    "Inheritance is a fundamental concept in object-oriented programming (OOP) that allows a new class (the derived or child class) to inherit attributes and methods from an existing class (the base or parent class). This promotes code reuse, abstraction, and the creation of a hierarchy of classes.\n",
    "\n",
    "In Python, you achieve inheritance by creating a new class that inherits from an existing class. The new class is called the subclass, and the existing class is called the superclass. The syntax for creating a subclass looks like this:\n",
    "\n",
    "```python\n",
    "class Superclass:\n",
    "    # attributes and methods of the superclass\n",
    "\n",
    "class Subclass(Superclass):\n",
    "    # additional attributes and methods for the subclass\n",
    "```\n",
    "\n",
    "Here's a simple example:\n",
    "\n",
    "```python\n",
    "class Animal:\n",
    "    def __init__(self, name):\n",
    "        self.name = name\n",
    "\n",
    "    def speak(self):\n",
    "        pass\n",
    "\n",
    "class Dog(Animal):\n",
    "    def speak(self):\n",
    "        return f\"{self.name} says Woof!\"\n",
    "\n",
    "class Cat(Animal):\n",
    "    def speak(self):\n",
    "        return f\"{self.name} says Meow!\"\n",
    "\n",
    "# Creating instances of subclasses\n",
    "my_dog = Dog(\"Buddy\")\n",
    "my_cat = Cat(\"Whiskers\")\n",
    "\n",
    "# Using methods from the superclass and subclass\n",
    "print(my_dog.name)      # Output: Buddy\n",
    "print(my_dog.speak())   # Output: Buddy says Woof!\n",
    "\n",
    "print(my_cat.name)      # Output: Whiskers\n",
    "print(my_cat.speak())   # Output: Whiskers says Meow!\n",
    "```\n",
    "\n",
    "In this example, `Dog` and `Cat` are subclasses of the `Animal` superclass. They inherit the `__init__` method and the `speak` method from the superclass. Each subclass can also have its own additional attributes and methods, and it can override methods from the superclass.\n",
    "\n",
    "Key points about inheritance in Python:\n",
    "\n",
    "1. **Method Overriding:** Subclasses can provide their own implementation of a method defined in the superclass. This is known as method overriding.\n",
    "\n",
    "2. **Access to Superclass Methods:** Subclasses can access methods and attributes of the superclass using the `super()` function.\n",
    "\n",
    "3. **Multiple Inheritance:** A class can inherit from multiple classes. Python supports multiple inheritance, where a subclass can inherit from more than one superclass.\n",
    "\n",
    "```python\n",
    "class Subclass(Superclass1, Superclass2):\n",
    "    # subclass definition\n",
    "```\n",
    "\n",
    "Inheritance is a powerful mechanism for creating modular and reusable code in Python. It allows you to build on existing functionality, organize code in a hierarchical manner, and promote code maintenance and readability."
   ]
  },
  {
   "cell_type": "code",
   "execution_count": 10,
   "metadata": {},
   "outputs": [],
   "source": [
    "class Animal:\n",
    "    def __init__(self, name):\n",
    "        self.name = name\n",
    "    \n",
    "    def speak(self):\n",
    "        return \"Does not says anything\"\n",
    "\n",
    "class Dog(Animal):\n",
    "    def speak(self):\n",
    "        # return super().speak()\n",
    "        # print(speaks)\n",
    "        return f\"{self.name} says woof\"\n",
    "    \n",
    "class Cat(Animal):\n",
    "    def speak(self):\n",
    "        return f\"{self.name} says meow\""
   ]
  },
  {
   "cell_type": "code",
   "execution_count": 11,
   "metadata": {},
   "outputs": [],
   "source": [
    "my_dog = Dog(\"Keo\")\n",
    "my_cat = Cat(\"Chameli\")"
   ]
  },
  {
   "cell_type": "code",
   "execution_count": 12,
   "metadata": {},
   "outputs": [
    {
     "data": {
      "text/plain": [
       "'Keo says woof'"
      ]
     },
     "execution_count": 12,
     "metadata": {},
     "output_type": "execute_result"
    }
   ],
   "source": [
    "my_dog.speak()\n"
   ]
  },
  {
   "cell_type": "code",
   "execution_count": 15,
   "metadata": {},
   "outputs": [
    {
     "data": {
      "text/plain": [
       "'Chameli says meow'"
      ]
     },
     "execution_count": 15,
     "metadata": {},
     "output_type": "execute_result"
    }
   ],
   "source": [
    "my_cat.speak()"
   ]
  },
  {
   "cell_type": "code",
   "execution_count": 16,
   "metadata": {},
   "outputs": [
    {
     "data": {
      "text/plain": [
       "'Keo'"
      ]
     },
     "execution_count": 16,
     "metadata": {},
     "output_type": "execute_result"
    }
   ],
   "source": [
    "my_dog.name"
   ]
  },
  {
   "cell_type": "code",
   "execution_count": 17,
   "metadata": {},
   "outputs": [
    {
     "data": {
      "text/plain": [
       "'Chameli'"
      ]
     },
     "execution_count": 17,
     "metadata": {},
     "output_type": "execute_result"
    }
   ],
   "source": [
    "my_cat.name"
   ]
  },
  {
   "cell_type": "code",
   "execution_count": 21,
   "metadata": {},
   "outputs": [
    {
     "ename": "RuntimeError",
     "evalue": "super(): no arguments",
     "output_type": "error",
     "traceback": [
      "\u001b[1;31m---------------------------------------------------------------------------\u001b[0m",
      "\u001b[1;31mRuntimeError\u001b[0m                              Traceback (most recent call last)",
      "Cell \u001b[1;32mIn [21], line 1\u001b[0m\n\u001b[1;32m----> 1\u001b[0m \u001b[38;5;28;43msuper\u001b[39;49m\u001b[43m(\u001b[49m\u001b[43m)\u001b[49m\u001b[38;5;241m.\u001b[39mmy_dog()\u001b[38;5;241m.\u001b[39mspeak\n",
      "\u001b[1;31mRuntimeError\u001b[0m: super(): no arguments"
     ]
    }
   ],
   "source": []
  },
  {
   "cell_type": "code",
   "execution_count": 31,
   "metadata": {},
   "outputs": [],
   "source": [
    "class Class1:\n",
    "    def __init__(self, a, b):\n",
    "        self.a = a\n",
    "        self.b = b\n",
    "\n",
    "    def method1(self):\n",
    "        print(self.a, self.b)\n",
    "        return \"Method 1 ran from Class1\"\n",
    "    \n",
    "class Class2(Class1):\n",
    "    def method1(self):\n",
    "        print(self.a, self.b)\n",
    "        return \"Method 1 ran from Class2\"\n",
    "    \n",
    "\n",
    "class Class3(Class1):\n",
    "    def method1(self):\n",
    "        # print(self.a, self.b)\n",
    "        return super().method1()\n",
    "\n"
   ]
  },
  {
   "cell_type": "code",
   "execution_count": 32,
   "metadata": {},
   "outputs": [],
   "source": [
    "c1 = Class1(4,5)\n",
    "c2 = Class2(6,7)\n",
    "c3 = Class3(8,9)"
   ]
  },
  {
   "cell_type": "code",
   "execution_count": 33,
   "metadata": {},
   "outputs": [
    {
     "name": "stdout",
     "output_type": "stream",
     "text": [
      "4 5\n"
     ]
    },
    {
     "data": {
      "text/plain": [
       "'Method 1 ran from Class1'"
      ]
     },
     "execution_count": 33,
     "metadata": {},
     "output_type": "execute_result"
    }
   ],
   "source": [
    "c1.method1()"
   ]
  },
  {
   "cell_type": "code",
   "execution_count": 34,
   "metadata": {},
   "outputs": [
    {
     "name": "stdout",
     "output_type": "stream",
     "text": [
      "6 7\n"
     ]
    },
    {
     "data": {
      "text/plain": [
       "'Method 1 ran from Class2'"
      ]
     },
     "execution_count": 34,
     "metadata": {},
     "output_type": "execute_result"
    }
   ],
   "source": [
    "c2.method1()"
   ]
  },
  {
   "cell_type": "code",
   "execution_count": 35,
   "metadata": {},
   "outputs": [
    {
     "name": "stdout",
     "output_type": "stream",
     "text": [
      "8 9\n"
     ]
    },
    {
     "data": {
      "text/plain": [
       "'Method 1 ran from Class1'"
      ]
     },
     "execution_count": 35,
     "metadata": {},
     "output_type": "execute_result"
    }
   ],
   "source": [
    "c3.method1()"
   ]
  },
  {
   "cell_type": "code",
   "execution_count": null,
   "metadata": {},
   "outputs": [],
   "source": []
  }
 ],
 "metadata": {
  "kernelspec": {
   "display_name": "Python 3",
   "language": "python",
   "name": "python3"
  },
  "language_info": {
   "codemirror_mode": {
    "name": "ipython",
    "version": 3
   },
   "file_extension": ".py",
   "mimetype": "text/x-python",
   "name": "python",
   "nbconvert_exporter": "python",
   "pygments_lexer": "ipython3",
   "version": "3.10.0"
  }
 },
 "nbformat": 4,
 "nbformat_minor": 2
}
