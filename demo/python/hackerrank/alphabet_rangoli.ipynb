{
 "cells": [
  {
   "cell_type": "code",
   "execution_count": 3,
   "metadata": {},
   "outputs": [
    {
     "name": "stdout",
     "output_type": "stream",
     "text": [
      "a-b-c-d-e-f-g-h-i-j\n",
      "b-c-d-e-f-g-h-i-j\n",
      "c-d-e-f-g-h-i-j\n",
      "d-e-f-g-h-i-j\n",
      "e-f-g-h-i-j\n",
      "f-g-h-i-j\n",
      "g-h-i-j\n",
      "h-i-j\n",
      "i-j\n",
      "j\n",
      "['j-i-h-g-f-e-d-c-b-a-b-c-d-e-f-g-h-i-j', 'j-i-h-g-f-e-d-c-b-c-d-e-f-g-h-i-j', 'j-i-h-g-f-e-d-c-d-e-f-g-h-i-j', 'j-i-h-g-f-e-d-e-f-g-h-i-j', 'j-i-h-g-f-e-f-g-h-i-j', 'j-i-h-g-f-g-h-i-j', 'j-i-h-g-h-i-j', 'j-i-h-i-j', 'j-i-j', 'j']\n"
     ]
    }
   ],
   "source": [
    "def print_rangoli(size):\n",
    "    a = \"abcdefghijklmnopqrstuvwxyz\"\n",
    "\n",
    "    lines = []\n",
    "    for row in range(size):\n",
    "        print_ = \"-\".join(a[row:size])\n",
    "        lines.append(print_[::-1] + print_[1:])\n",
    "        print(print_)\n",
    "    # width = len(lines[0])\n",
    "    print(lines)\n",
    "    \n",
    "    # for row in range(size-1, 0, -1):\n",
    "    #     print(lines[row].center(width, '-'))\n",
    "        \n",
    "    # for row in range(size):\n",
    "    #     print(lines[row].center(width, '-'))\n",
    "\n",
    "n = 10\n",
    "print_rangoli(n)"
   ]
  },
  {
   "cell_type": "code",
   "execution_count": 17,
   "metadata": {},
   "outputs": [
    {
     "name": "stdout",
     "output_type": "stream",
     "text": [
      "------------------j------------------\n",
      "----------------j-i-j----------------\n",
      "--------------j-i-h-i-j--------------\n",
      "------------j-i-h-g-h-i-j------------\n",
      "----------j-i-h-g-f-g-h-i-j----------\n",
      "--------j-i-h-g-f-e-f-g-h-i-j--------\n",
      "------j-i-h-g-f-e-d-e-f-g-h-i-j------\n",
      "----j-i-h-g-f-e-d-c-d-e-f-g-h-i-j----\n",
      "--j-i-h-g-f-e-d-c-b-c-d-e-f-g-h-i-j--\n",
      "j-i-h-g-f-e-d-c-b-a-b-c-d-e-f-g-h-i-j\n",
      "--j-i-h-g-f-e-d-c-b-c-d-e-f-g-h-i-j--\n",
      "----j-i-h-g-f-e-d-c-d-e-f-g-h-i-j----\n",
      "------j-i-h-g-f-e-d-e-f-g-h-i-j------\n",
      "--------j-i-h-g-f-e-f-g-h-i-j--------\n",
      "----------j-i-h-g-f-g-h-i-j----------\n",
      "------------j-i-h-g-h-i-j------------\n",
      "--------------j-i-h-i-j--------------\n",
      "----------------j-i-j----------------\n",
      "------------------j------------------\n"
     ]
    }
   ],
   "source": [
    "def rangoli(size):\n",
    "    a = \"abcdefghijklmnopqrstuvwxyz\"\n",
    "    lines = []\n",
    "    for row in range(size):\n",
    "        string = \"-\".join(a[row:size])\n",
    "        # print(string)\n",
    "        lines.append(string[::-1]+string[1:])\n",
    "    width = len(lines[0])\n",
    "\n",
    "    for row in range(size-1, 0, -1):\n",
    "        print(lines[row].center(width, \"-\"))\n",
    "    \n",
    "    for row in range(size):\n",
    "        print(lines[row].center(width, \"-\"))\n",
    "\n",
    "rangoli(10)"
   ]
  },
  {
   "cell_type": "code",
   "execution_count": null,
   "metadata": {},
   "outputs": [],
   "source": []
  }
 ],
 "metadata": {
  "kernelspec": {
   "display_name": "Python 3",
   "language": "python",
   "name": "python3"
  },
  "language_info": {
   "codemirror_mode": {
    "name": "ipython",
    "version": 3
   },
   "file_extension": ".py",
   "mimetype": "text/x-python",
   "name": "python",
   "nbconvert_exporter": "python",
   "pygments_lexer": "ipython3",
   "version": "3.10.0"
  }
 },
 "nbformat": 4,
 "nbformat_minor": 2
}
