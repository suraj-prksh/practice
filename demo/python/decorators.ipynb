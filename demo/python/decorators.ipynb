{
 "cells": [
  {
   "cell_type": "markdown",
   "metadata": {},
   "source": [
    "In Python, decorators are a powerful and flexible way to modify or extend the behavior of functions or methods without changing their source code. Decorators use the `@decorator` syntax and are applied to functions to alter their functionality. Decorators are often used for tasks such as logging, timing, authentication, and more.\n",
    "\n",
    "Here's a basic example of a decorator:\n",
    "\n",
    "```python\n",
    "def my_decorator(func):\n",
    "    def wrapper():\n",
    "        print(\"Something is happening before the function is called.\")\n",
    "        func()\n",
    "        print(\"Something is happening after the function is called.\")\n",
    "    return wrapper\n",
    "\n",
    "@my_decorator\n",
    "def say_hello():\n",
    "    print(\"Hello!\")\n",
    "\n",
    "# Calling the decorated function\n",
    "say_hello()\n",
    "```\n",
    "\n",
    "In this example, `my_decorator` is a function that takes another function (`func`) as an argument and returns a new function (`wrapper`). The `wrapper` function surrounds the original function (`func`) with additional functionality. The `@my_decorator` syntax is a shortcut for `say_hello = my_decorator(say_hello)`, applying the decorator to the `say_hello` function.\n",
    "\n",
    "You can also use decorators with arguments by nesting additional functions:\n",
    "\n",
    "```python\n",
    "def decorator_with_args(arg):\n",
    "    def actual_decorator(func):\n",
    "        def wrapper(*args, **kwargs):\n",
    "            print(f\"Decorator argument: {arg}\")\n",
    "            func(*args, **kwargs)\n",
    "        return wrapper\n",
    "    return actual_decorator\n",
    "\n",
    "@decorator_with_args(\"Hello, I'm an argument!\")\n",
    "def say_hello(name):\n",
    "    print(f\"Hello, {name}!\")\n",
    "\n",
    "# Calling the decorated function\n",
    "say_hello(\"John\")\n",
    "```\n",
    "\n",
    "In this example, `decorator_with_args` takes an argument (`arg`) and returns the actual decorator (`actual_decorator`). The actual decorator then takes the original function (`func`) and returns the `wrapper` function. The decorator argument is printed before calling the original function.\n",
    "\n",
    "Decorators can be powerful tools for code organization and reuse, and they contribute to a clean and modular design. Many built-in decorators and third-party libraries use this concept extensively. Examples include `@staticmethod`, `@classmethod`, and `@property`, as well as decorators from libraries like Flask and Django in web development."
   ]
  },
  {
   "cell_type": "code",
   "execution_count": 4,
   "metadata": {},
   "outputs": [
    {
     "name": "stdout",
     "output_type": "stream",
     "text": [
      "Something before function call\n",
      "From inside the function\n",
      "Something before function call\n"
     ]
    }
   ],
   "source": [
    "def my_decorator(func):\n",
    "    def wrapper():\n",
    "        print(\"Something before function call\")\n",
    "        func()\n",
    "        print(\"Something after function call\")\n",
    "    return wrapper\n",
    "\n",
    "\n",
    "@my_decorator\n",
    "def my_func():\n",
    "    print(\"From inside the function\")\n",
    "\n",
    "my_func()"
   ]
  },
  {
   "cell_type": "code",
   "execution_count": 10,
   "metadata": {},
   "outputs": [
    {
     "name": "stdout",
     "output_type": "stream",
     "text": [
      "Before () {'a': 4, 'b': 6}\n",
      "from function 4, 6\n",
      "After\n"
     ]
    }
   ],
   "source": [
    "def my_deco(func):\n",
    "    def wrapper(*args, **kwargs):\n",
    "        print(\"Before\", args, kwargs)\n",
    "        func(*args, **kwargs)\n",
    "        print(\"After\")\n",
    "    return wrapper\n",
    "\n",
    "\n",
    "@my_deco\n",
    "def myfunc(a, b):\n",
    "    print(f\"from function {a}, {b}\")\n",
    "    return \"OK\"\n",
    "\n",
    "myfunc(a=4,b=6)"
   ]
  },
  {
   "cell_type": "code",
   "execution_count": 16,
   "metadata": {},
   "outputs": [],
   "source": [
    "def multiply_by_two(func):\n",
    "    def wrapper(*args, **kwargs):\n",
    "        print(\"Before\")\n",
    "        a = func(*args, **kwargs)*2\n",
    "        print(\"After\")\n",
    "        print(a)\n",
    "    return wrapper\n",
    "\n"
   ]
  },
  {
   "cell_type": "code",
   "execution_count": 17,
   "metadata": {},
   "outputs": [
    {
     "name": "stdout",
     "output_type": "stream",
     "text": [
      "Before\n",
      "Something from something functions\n",
      "After\n",
      "18\n"
     ]
    }
   ],
   "source": [
    "@multiply_by_two\n",
    "def something(a, b):\n",
    "    print(\"Something from something functions\")\n",
    "    return a+b\n",
    "something(4, 5)"
   ]
  },
  {
   "cell_type": "code",
   "execution_count": null,
   "metadata": {},
   "outputs": [],
   "source": []
  }
 ],
 "metadata": {
  "kernelspec": {
   "display_name": "Python 3",
   "language": "python",
   "name": "python3"
  },
  "language_info": {
   "codemirror_mode": {
    "name": "ipython",
    "version": 3
   },
   "file_extension": ".py",
   "mimetype": "text/x-python",
   "name": "python",
   "nbconvert_exporter": "python",
   "pygments_lexer": "ipython3",
   "version": "3.10.0"
  }
 },
 "nbformat": 4,
 "nbformat_minor": 2
}
