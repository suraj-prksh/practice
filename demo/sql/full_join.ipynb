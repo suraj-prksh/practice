{
 "cells": [
  {
   "cell_type": "markdown",
   "metadata": {},
   "source": [
    "A `FULL OUTER JOIN` returns all rows when there is a match in either the left (first) table or the right (second) table records, and it also returns unmatched rows from both tables. If there is no match, the result will contain NULL values for columns from the table with no matching row.\n",
    "\n",
    "Here's an example of how you can use a `FULL OUTER JOIN` with four tables:\n",
    "\n",
    "```sql\n",
    "SELECT *\n",
    "FROM table1\n",
    "FULL OUTER JOIN table2 ON table1.column_name = table2.column_name\n",
    "FULL OUTER JOIN table3 ON table2.column_name = table3.column_name\n",
    "FULL OUTER JOIN table4 ON table3.column_name = table4.column_name;\n",
    "```\n",
    "\n",
    "Again, replace `table1`, `table2`, `table3`, and `table4` with your actual table names, and replace `column_name` with the appropriate column names that establish relationships between the tables.\n",
    "\n",
    "For instance:\n",
    "\n",
    "```sql\n",
    "SELECT *\n",
    "FROM employees\n",
    "FULL OUTER JOIN departments ON employees.department_id = departments.department_id\n",
    "FULL OUTER JOIN projects ON departments.project_id = projects.project_id\n",
    "FULL OUTER JOIN assignments ON projects.assignment_id = assignments.assignment_id;\n",
    "```\n",
    "\n",
    "This query would return all rows from the `employees`, `departments`, `projects`, and `assignments` tables, with matching rows joined and unmatched rows filled with NULL values. Adjust the column names based on your specific database schema and relationships."
   ]
  },
  {
   "cell_type": "code",
   "execution_count": null,
   "metadata": {},
   "outputs": [],
   "source": []
  }
 ],
 "metadata": {
  "language_info": {
   "name": "python"
  }
 },
 "nbformat": 4,
 "nbformat_minor": 2
}
