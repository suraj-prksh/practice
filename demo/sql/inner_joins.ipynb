{
 "cells": [
  {
   "cell_type": "markdown",
   "metadata": {},
   "source": [
    "```sql\n",
    "SELECT  book_id,\n",
    "        book_title,\n",
    "        review_id,\n",
    "        review_content,\n",
    "        author_id,\n",
    "        author_name\n",
    "FROM\n",
    "    reviews\n",
    "INNER JOIN books ON reviews.book_id = books.book_id\n",
    "INNER JOIN authors ON books.author_id = authors.author_id ;\n",
    "\n",
    "```"
   ]
  },
  {
   "cell_type": "markdown",
   "metadata": {},
   "source": [
    "```sql\n",
    "SELECT\n",
    "    \"yourapp_review\".\"id\" AS \"review_id\",\n",
    "    \"yourapp_review\".\"content\" AS \"review_content\",\n",
    "    \"yourapp_book\".\"id\" AS \"book_id\",\n",
    "    \"yourapp_book\".\"title\" AS \"book_title\",\n",
    "    \"yourapp_author\".\"id\" AS \"author_id\",\n",
    "    \"yourapp_author\".\"name\" AS \"author_name\"\n",
    "FROM\n",
    "    \"yourapp_review\"\n",
    "    INNER JOIN \"yourapp_book\" ON (\"yourapp_review\".\"book_id\" = \"yourapp_book\".\"id\")\n",
    "    INNER JOIN \"yourapp_author\" ON (\"yourapp_book\".\"author_id\" = \"yourapp_author\".\"id\");\n",
    "\n",
    "```"
   ]
  },
  {
   "cell_type": "code",
   "execution_count": null,
   "metadata": {},
   "outputs": [],
   "source": []
  }
 ],
 "metadata": {
  "language_info": {
   "name": "python"
  }
 },
 "nbformat": 4,
 "nbformat_minor": 2
}
